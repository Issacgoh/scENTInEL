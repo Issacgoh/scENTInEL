{
 "cells": [
  {
   "cell_type": "markdown",
   "id": "outer-tamil",
   "metadata": {},
   "source": [
    "# Key concepts behind SGD pagerank"
   ]
  },
  {
   "cell_type": "markdown",
   "id": "hybrid-circus",
   "metadata": {},
   "source": [
    "# Understanding the Normalized Adjacency Matrix in SGD PageRank\n",
    "\n",
    "In the presented computation, a distinct form of the normalized adjacency matrix has been employed. While this is not the traditional Laplacian, such normalized matrices have become increasingly prevalent, especially in the domain of graph-based learning methodologies, like graph convolutional networks (GCNs).\n",
    "\n",
    "## 1. **Degrees Matrix**:\n",
    "\n",
    "For each node in the graph, the sum of the weights of its edges is computed. This calculation is a generalization of the degree concept for weighted graphs. The formula for the degree of a node \\(i\\) in a weighted graph is given by:\n",
    "\n",
    "$$ \\text{degree}(i) = \\sum_j \\text{weight}(i, j) $$\n",
    "\n",
    "\n",
    "Additionally, adding \\(1\\) to each node's degree represents the inclusion of a self-loop, ensuring every node retains a connection to itself.\n",
    "\n",
    "## 2. **Inverse Square Root of Degrees**:\n",
    "\n",
    "The inverse of the square root of the degrees is computed. This transformation is pivotal for normalization. The main objective behind this is to ensure nodes with a high degree don't exert a disproportionate influence. The formula to compute this for a node \\(i\\) is:\n",
    "\n",
    "$$ \\text{inv_sqrt_degree}(i) = \\frac{1}{\\sqrt{\\text{degree}(i)}} $$\n",
    "\n",
    "\n",
    "## 3. **Normalized Matrix**:\n",
    "\n",
    "The final normalized matrix is created by multiplying the inverse square root diagonal matrix with the adjacency matrix, and then with the inverse square root matrix again:\n",
    "\n",
    "$$ \\text{normalized_matrix} = \\text{inv_sqrt_deg_matrix} \\times \\text{neighborhood_matrix} \\times \\text{inv_sqrt_deg_matrix} $$\n",
    "\n",
    "This process yields a symmetrically normalized adjacency matrix.\n",
    "\n",
    "## **Implications of the Normalized Adjacency Matrix**:\n",
    "\n",
    "- **Highlighting Local Structures**: The resulting PageRank scores derived using this matrix accentuate local structures more than a traditional approach. As such, nodes embedded within closely-knit communities or cliques might receive higher scores in this method as opposed to traditional PageRank.\n",
    "  \n",
    "- **Equitable Distribution**: The normalization mechanism ensures that nodes with an extremely high degree won't dominate the computation. This normalization ensures that there's a more balanced sharing of importance across nodes.\n",
    "\n",
    "- **Connectivity Over Weight**: By using the normalized matrix, the emphasis is placed more on the patterns of connectivity rather than the raw edge weights. This means that the focus is more on the relational dynamics between nodes and their surrounding neighborhoods.\n",
    "\n",
    "## **Understanding the Outcomes of SGD PageRank with the Normalized Adjacency Matrix**:\n",
    "\n",
    "1. **Local and Global Importance**: The PageRank scores derived can be viewed as a balance between global significance and local neighborhood relevance. Nodes in tight communities might receive elevated importance due to the amplified local structure, while still maintaining a connection to the broader graph structure.\n",
    "\n",
    "2. **Resilience to High-Degree Nodes**: Due to the symmetrical normalization, nodes with a high number of connections don't overshadow the computation. This mechanism ensures every node gets a fair consideration based on its connectivity patterns.\n",
    "\n",
    "In summary, the integration of a normalized adjacency matrix in the SGD PageRank algorithm paves the way for a nuanced derivation of node importance. This approach takes into account both the global structure of the graph and the intricate dynamics of local neighborhoods.\n",
    "\n",
    "\n"
   ]
  },
  {
   "cell_type": "markdown",
   "id": "analyzed-rebel",
   "metadata": {},
   "source": [
    "## **Conclusions:**\n",
    "\n",
    "1. **Using Normalized Laplacian:**\n",
    "By using the normalized Laplacian in the context of single-cell data, you're essentially down-weighting the influence of cells that are highly connected (i.e., cells that are similar to many other cells). This can be beneficial if you believe that highly connected cells are not necessarily more \"important\" than less connected cells. By reducing their influence, you might highlight more unique or specialized cell states that could be overshadowed in a traditional PageRank computation.\n",
    "\n",
    "2. **Interpretability and Biological Relevance:**\n",
    "The key question is whether the rank scores, and the resulting ordering of cells, have biological relevance or offer insights into the cellular landscape. For example, do high-ranked cells correspond to critical transitional states in a developmental trajectory? Or do they highlight rare cell populations with distinct gene expression profiles?"
   ]
  },
  {
   "cell_type": "code",
   "execution_count": null,
   "id": "explicit-medicaid",
   "metadata": {},
   "outputs": [],
   "source": []
  },
  {
   "cell_type": "code",
   "execution_count": null,
   "id": "sorted-august",
   "metadata": {},
   "outputs": [],
   "source": []
  }
 ],
 "metadata": {
  "kernelspec": {
   "display_name": "workhorse",
   "language": "python",
   "name": "workhorse"
  },
  "language_info": {
   "codemirror_mode": {
    "name": "ipython",
    "version": 3
   },
   "file_extension": ".py",
   "mimetype": "text/x-python",
   "name": "python",
   "nbconvert_exporter": "python",
   "pygments_lexer": "ipython3",
   "version": "3.9.18"
  }
 },
 "nbformat": 4,
 "nbformat_minor": 5
}
