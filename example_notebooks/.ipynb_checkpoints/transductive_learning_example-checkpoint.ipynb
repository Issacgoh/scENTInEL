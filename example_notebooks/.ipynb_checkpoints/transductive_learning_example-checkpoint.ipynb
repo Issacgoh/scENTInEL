{
 "cells": [
  {
   "cell_type": "markdown",
   "id": "identified-orange",
   "metadata": {},
   "source": [
    "# SCENTInEL\n",
    "#### sc ElasticNet transductive and inductive ensemble learning"
   ]
  },
  {
   "cell_type": "markdown",
   "id": "upset-moderator",
   "metadata": {},
   "source": [
    "# LR multi-tissue cross-comparison\n",
    "\n",
    "##### Ver:: A2_V6\n",
    "##### Author(s) : Issac Goh\n",
    "##### Date : 220823;YYMMDD\n",
    "### Author notes\n",
    "    - Current defaults scrpae data from web, so leave as default and run\n",
    "    - slices model and anndata to same feature shape, scales anndata object\n",
    "    - added some simple benchmarking\n",
    "    - creates dynamic cutoffs for probability score (x*sd of mean) in place of more memory intensive confidence scoring\n",
    "    - Does not have majority voting set on as default, but module does exist\n",
    "    - Multinomial logistic relies on the (not always realistic) assumption of independence of irrelevant alternatives whereas a series of binary logistic predictions does not. collinearity is assumed to be relatively low, as it becomes difficult to differentiate between the impact of several variables if this is not the case\n",
    "    - Feel free to feed this model latent representations which capture non-linear relationships, the model will attempt to resolve any linearly seperable features. Feature engineering can be applied here.\n",
    "    \n",
    "### Features to add\n",
    "    - Add ability to consume anndata zar format for sequential learning\n",
    "### Modes to run in\n",
    "    - Run in training mode\n",
    "    - Run in projection mode"
   ]
  },
  {
   "cell_type": "code",
   "execution_count": 8,
   "id": "forced-wagon",
   "metadata": {},
   "outputs": [],
   "source": [
    "import scanpy as sc\n",
    "import pandas as pd\n",
    "import numpy as np\n",
    "import scentinel as scent\n",
    "import pickle as pkl"
   ]
  },
  {
   "cell_type": "code",
   "execution_count": 13,
   "id": "rapid-television",
   "metadata": {},
   "outputs": [],
   "source": [
    "models = {\n",
    "'pan_fetal_wget':'https://celltypist.cog.sanger.ac.uk/models/Pan_Fetal_Suo/v2/Pan_Fetal_Human.pkl',\n",
    "'YS_wget':'https://storage.googleapis.com/haniffalab/yolk-sac/YS_X_A2_V12_lvl3_ELASTICNET_YS.sav',\n",
    "}\n",
    "\n",
    "adatas_dict = {\n",
    "'pan_fetal_wget':'https://cellgeni.cog.sanger.ac.uk/developmentcellatlas/fetal-immune/PAN.A01.v01.raw_count.20210429.PFI.embedding.h5ad',\n",
    "'YS_wget':'https://app.cellatlas.io/yolk-sac/dataset/23/download',\n",
    "'FLIV_wget':'https://app.cellatlas.io/fetal-liver/dataset/1/download'\n",
    "}\n",
    "\n",
    "# Variable assignment\n",
    "train_model = False\n",
    "feat_use = 'cell.labels'\n",
    "adata_key = 'FLIV_wget'#'fliv_wget_test' # key for dictionary entry containing local or web path to adata/s can be either url or local \n",
    "data_merge = False # read and merge multiple adata (useful, but keep false for now)\n",
    "model_key = 'pan_fetal_wget'#'test_low_dim_ipsc_ys'# key for model of choice can be either url or local \n",
    "train_x_partition = 'X' # what partition was the data trained on? To keep simple, for now only accepts 'X'\n",
    "dyn_std = 1.96 # Dynamic cutoffs using std of the mean for each celltype probability, gives a column notifying user of uncertain labels 1 == 68Ci, 1.96 = 95CI\n",
    "freq_redist = 'cell.labels'#'cell.labels'#'False#'cell.labels'#False # False or key of column in anndata object which contains labels/clusters // not currently implemented\n",
    "partial_scale = True # should data be scaled in batches?\n",
    "QC_normalise = True # should data be normalised?\n",
    "\n",
    "# training variables\n",
    "penalty='elasticnet' # can be [\"l1\",\"l2\",\"elasticnet\"]\n",
    "sparcity=0.5 # C penalty for degree of regularisation\n",
    "thread_num = -1\n",
    "l1_ratio = 0.5 # ratio between L1 and L2 regulrisatiuon depending on penatly method"
   ]
  },
  {
   "cell_type": "markdown",
   "id": "explicit-collaboration",
   "metadata": {},
   "source": [
    "# Read in query data for projection"
   ]
  },
  {
   "cell_type": "code",
   "execution_count": 15,
   "id": "following-selection",
   "metadata": {},
   "outputs": [
    {
     "name": "stdout",
     "output_type": "stream",
     "text": [
      "Loading anndata from web source\n",
      "option to apply standardisation to data detected, performing basic QC filtering\n",
      "Loading model from web source\n"
     ]
    },
    {
     "name": "stderr",
     "output_type": "stream",
     "text": [
      "/home/jovyan/my-conda-envs/scentinel_test/lib/python3.10/site-packages/sklearn/base.py:347: InconsistentVersionWarning: Trying to unpickle estimator LogisticRegression from version 0.24.1 when using version 1.3.0. This might lead to breaking code or invalid results. Use at your own risk. For more info please refer to:\n",
      "https://scikit-learn.org/stable/model_persistence.html#security-maintainability-limitations\n",
      "  warnings.warn(\n",
      "/home/jovyan/my-conda-envs/scentinel_test/lib/python3.10/site-packages/sklearn/base.py:347: InconsistentVersionWarning: Trying to unpickle estimator StandardScaler from version 0.24.1 when using version 1.3.0. This might lead to breaking code or invalid results. Use at your own risk. For more info please refer to:\n",
      "https://scikit-learn.org/stable/model_persistence.html#security-maintainability-limitations\n",
      "  warnings.warn(\n",
      "Exception in thread Thread-8:\n",
      "Traceback (most recent call last):\n",
      "  File \"/home/jovyan/my-conda-envs/scentinel_test/lib/python3.10/threading.py\", line 1016, in _bootstrap_inner\n",
      "    self.run()\n",
      "  File \"/home/jovyan/my-conda-envs/scentinel_test/lib/python3.10/site-packages/scentinel/general_utlities.py\", line 140, in run\n"
     ]
    },
    {
     "ename": "TypeError",
     "evalue": "reference_projection() takes 4 positional arguments but 5 were given",
     "output_type": "error",
     "traceback": [
      "\u001b[0;31m---------------------------------------------------------------------------\u001b[0m",
      "\u001b[0;31mTypeError\u001b[0m                                 Traceback (most recent call last)",
      "Input \u001b[0;32mIn [15]\u001b[0m, in \u001b[0;36m<cell line: 49>\u001b[0;34m()\u001b[0m\n\u001b[1;32m     48\u001b[0m display_cpu\u001b[38;5;241m.\u001b[39mstart()\n\u001b[1;32m     49\u001b[0m \u001b[38;5;28;01mtry\u001b[39;00m: \u001b[38;5;66;03m#code here ##\u001b[39;00m\n\u001b[0;32m---> 50\u001b[0m     pred_out,train_x,model_lr,adata_temp \u001b[38;5;241m=\u001b[39m \u001b[43mscent\u001b[49m\u001b[38;5;241;43m.\u001b[39;49m\u001b[43mreference_projection\u001b[49m\u001b[43m(\u001b[49m\u001b[43madata\u001b[49m\u001b[43m,\u001b[49m\u001b[43m \u001b[49m\u001b[43mmodel_lr\u001b[49m\u001b[43m,\u001b[49m\u001b[43m \u001b[49m\u001b[43mdyn_std\u001b[49m\u001b[43m,\u001b[49m\u001b[43mpartial_scale\u001b[49m\u001b[43m,\u001b[49m\u001b[43mtrain_x_partition\u001b[49m\u001b[43m)\u001b[49m\n\u001b[1;32m     51\u001b[0m     \u001b[38;5;28;01mif\u001b[39;00m freq_redist \u001b[38;5;241m!=\u001b[39m \u001b[38;5;28;01mFalse\u001b[39;00m:\n\u001b[1;32m     52\u001b[0m         pred_out \u001b[38;5;241m=\u001b[39m scent\u001b[38;5;241m.\u001b[39mfreq_redist_68CI(adata,freq_redist)\n",
      "\u001b[0;31mTypeError\u001b[0m: reference_projection() takes 4 positional arguments but 5 were given"
     ]
    },
    {
     "name": "stderr",
     "output_type": "stream",
     "text": [
      "    self.peak_cpu_per_core = peak_cpu_per_core\n",
      "UnboundLocalError: local variable 'peak_cpu_per_core' referenced before assignment\n"
     ]
    }
   ],
   "source": [
    "if train_model == True:\n",
    "    from sklearn.preprocessing import StandardScaler\n",
    "    adata =  scent.load_adatas(adatas_dict, data_merge, adata_key, QC_normalise)\n",
    "    print('adata_loaded')\n",
    "    import time\n",
    "    t0 = time.time()\n",
    "    display_cpu = scent.DisplayCPU()\n",
    "    display_cpu.start()\n",
    "    try:\n",
    "        model_trained = scent.prep_training_data(feat_use = feat_use,\n",
    "        adata_temp = adata,\n",
    "        train_x_partition = train_x_partition,\n",
    "        model_key = model_key + '_lr_model',\n",
    "        batch_correction = 'Harmony',\n",
    "        var_length = 7500,\n",
    "        batch_key = 'donor',\n",
    "        penalty='elasticnet', # can be [\"l1\",\"l2\",\"elasticnet\"],\n",
    "        sparcity=sparcity, #If using LR without optimisation, this controls the sparsity in model\n",
    "        max_iter = 1000, #Increase if experiencing max iter issues\n",
    "        l1_ratio = l1_ratio, #If using elasticnet without optimisation, this controls the ratio between l1 and l2)\n",
    "        partial_scale = False, #partial_scale,\n",
    "        tune_hyper_params = True # Current implementation is very expensive, intentionally made rigid for now\n",
    "        )\n",
    "        filename =model_name\n",
    "        pkl.dump(model_trained, open(filename, 'wb'))\n",
    "    finally: #\n",
    "        current, peak = display_cpu.stop()\n",
    "        t1 = time.time()\n",
    "        time_s = t1-t0\n",
    "        print('training complete!')\n",
    "        time.sleep(3)\n",
    "        print('projection time was ' + str(time_s) + ' seconds')\n",
    "        print(f\"Current memory usage is {current / 10**6}MB; Peak was {peak / 10**6}MB\")\n",
    "        print(f\"starting memory usage is\" +'' + str(display_cpu.starting))\n",
    "        print('peak CPU % usage = '+''+ str(display_cpu.peak_cpu))\n",
    "        print('peak CPU % usage/core = '+''+ str(display_cpu.peak_cpu_per_core))\n",
    "    model_lr= model_trained\n",
    "    adata =  scent.load_adatas(adatas_dict, data_merge, adata_key)\n",
    "else:\n",
    "    adata =  scent.load_adatas(adatas_dict, data_merge, adata_key,QC_normalise)\n",
    "    model = scent.load_models(models,model_key)\n",
    "    model_lr =  model\n",
    "    \n",
    "# run with usage logger\n",
    "import time\n",
    "t0 = time.time()\n",
    "display_cpu = scent.DisplayCPU()\n",
    "display_cpu.start()\n",
    "try: #code here ##\n",
    "    pred_out,train_x,model_lr,adata_temp = scent.reference_projection(adata, model_lr, dyn_std,partial_scale,train_x_partition)\n",
    "    if freq_redist != False:\n",
    "        pred_out = scent.freq_redist_68CI(adata,freq_redist)\n",
    "        pred_out['orig_labels'] = adata.obs[freq_redist]\n",
    "        adata.obs['consensus_clus_prediction'] = pred_out['consensus_clus_prediction']\n",
    "    adata.obs['predicted'] = pred_out['predicted']\n",
    "    adata_temp.obs = adata.obs\n",
    "    \n",
    "    # Estimate top model features for class descrimination\n",
    "    feature_importance = scent.estimate_important_features(model_lr, 100)\n",
    "    mat = scent.feature_importance.euler_pow_mat\n",
    "    top_loadings = scent.feature_importance.to_n_features_long\n",
    "\n",
    "finally: #\n",
    "    current, peak = display_cpu.stop()\n",
    "t1 = time.time()\n",
    "time_s = t1-t0\n",
    "print('projection complete!')\n",
    "time.sleep(3)\n",
    "print('projection time was ' + str(time_s) + ' seconds')\n",
    "print(f\"Current memory usage is {current / 10**6}MB; Peak was {peak / 10**6}MB\")\n",
    "print(f\"starting memory usage is\" +'' + str(display_cpu.starting))\n",
    "print('peak CPU % usage = '+''+ str(display_cpu.peak_cpu))\n",
    "print('peak CPU % usage/core = '+''+ str(display_cpu.peak_cpu_per_core))\n",
    "\n",
    "# regression summary\n",
    "idx_map = dict(zip(  list(adata.obs[feat_use].unique()),list(range(0,len(list(adata.obs[feat_use].unique()))))))\n",
    "scent.regression_results(adata.obs[feat_use].map(idx_map), adata.obs['predicted'].map(idx_map))"
   ]
  },
  {
   "cell_type": "markdown",
   "id": "southwest-platinum",
   "metadata": {},
   "source": [
    "# View by median probabilities per classification"
   ]
  },
  {
   "cell_type": "code",
   "execution_count": null,
   "id": "recorded-philadelphia",
   "metadata": {},
   "outputs": [],
   "source": [
    "scent.plot_label_probability_heatmap(pred_out)"
   ]
  },
  {
   "cell_type": "markdown",
   "id": "direct-juice",
   "metadata": {},
   "source": [
    "# View by cross-tabulation of two categorical attributes"
   ]
  },
  {
   "cell_type": "code",
   "execution_count": null,
   "id": "chubby-pollution",
   "metadata": {},
   "outputs": [],
   "source": [
    "scent.plot_crosstab_heatmap(adata, feat_use, 'predicted')\n",
    "scent.plot_crosstab_heatmap(adata, 'consensus_clus_prediction', 'predicted')"
   ]
  },
  {
   "cell_type": "markdown",
   "id": "sought-brake",
   "metadata": {},
   "source": [
    "# View top predictive features per class"
   ]
  },
  {
   "cell_type": "code",
   "execution_count": null,
   "id": "desirable-spank",
   "metadata": {},
   "outputs": [],
   "source": [
    "#Estimate dataset specific feature impact\n",
    "for classes in ['pDC precursor_ys_HL','AEC_ys_HL']:\n",
    "    scent.model_class_feature_plots(top_loadings, [str(classes)], 'e^coef')\n",
    "    plt.show()"
   ]
  },
  {
   "cell_type": "markdown",
   "id": "sporting-passage",
   "metadata": {},
   "source": [
    "# Save predicted output"
   ]
  },
  {
   "cell_type": "code",
   "execution_count": null,
   "id": "smooth-pickup",
   "metadata": {},
   "outputs": [],
   "source": [
    "pred_out.to_csv('./A1_V3_sk_sk_pred_outs.csv')"
   ]
  },
  {
   "cell_type": "markdown",
   "id": "right-process",
   "metadata": {},
   "source": [
    " # Assess feature impact on model predictions"
   ]
  },
  {
   "cell_type": "code",
   "execution_count": null,
   "id": "former-notebook",
   "metadata": {},
   "outputs": [],
   "source": [
    "# if using a low-dim model like PCA or ldVAE which has a weights layer\n",
    "# top_loadings = compute_weighted_impact(varm_file = '/nfs/team205/ig7/projects/fetal_skin/3_160523_probabillistic_projection_organoid_adt_fetl/A2_V2_ldvae_models/v3_ldvae_obsm_weights.csv',top_loadings =  top_loadings, threshold=0.05)\n",
    "\n",
    "for class_lin in top_loadings['class'].unique():\n",
    "    scent.model_class_feature_plots(top_loadings, [class_lin], 'weighted_impact','e^coef',max_len= 20,title = lineage)\n",
    "    scent.analyze_and_plot(top_loadings,class_lin, max_len=20, pre_ranked=True, database='GO_Biological_Process_2021', cutoff=0.25, min_s=5)"
   ]
  },
  {
   "cell_type": "code",
   "execution_count": null,
   "id": "brave-bible",
   "metadata": {},
   "outputs": [],
   "source": [
    "list(top_loadings['class'].unique())"
   ]
  },
  {
   "cell_type": "code",
   "execution_count": null,
   "id": "compact-sense",
   "metadata": {},
   "outputs": [],
   "source": [
    "top_loadings[top_loadings['class'].isin(['Tip cell (arterial)','HSC','SPP1+ proliferating neuron proneitors'])].groupby(['class']).head(10)"
   ]
  },
  {
   "cell_type": "code",
   "execution_count": null,
   "id": "legal-dating",
   "metadata": {},
   "outputs": [],
   "source": [
    "for classes in ['Tip cell (arterial)','HSC','SPP1+ proliferating neuron proneitors']:\n",
    "    scent.model_class_feature_plots(top_loadings, [str(classes)], 'e^coef')\n",
    "    plt.show()"
   ]
  },
  {
   "cell_type": "markdown",
   "id": "promotional-personal",
   "metadata": {},
   "source": [
    "# Let's calculate an impact and specificty score for each cell\n",
    "\n",
    "- We create a variable model impact factor by multiplying gene x model coeficient for class\n",
    "- This is the variable contribution of each feature for a class prediction given a model and data\n",
    "\n",
    "$X = $$\\begin{bmatrix}(e^{coeff}_{n} * g1),(e^{coeff}_{n} * g2) \\\\ (e^{coeff}_{n} * g1),(e^{coeff}_{n} * g2) \\\\ (e^{coeff}_{n} * g1),(e^{coeff}_{n} * g2) \\\\ ..... \\end{bmatrix}$\n",
    "\n",
    "- We create a summed feature impact score for each cell by summing per feature ipact scores which identifies the overarching impact of a model's contribution.. == total model impact score\n",
    "\n",
    "$Impact_{cellx} = $$\\begin{bmatrix}(e^{coeff}_{n} * g1) + \\ (e^{coeff}_{n} * g2) \\ +(e^{coeff}_{n} * g3) \\ + ..... \\end{bmatrix}$\n",
    "\n",
    "- We measure the model feature effect on class decisoion betwene organs and withi organs\n",
    "- We can now use these feature availability/impact metrics to compare the availability and differential impact of features between data for transductive and/or inductive runs"
   ]
  },
  {
   "cell_type": "code",
   "execution_count": null,
   "id": "married-savage",
   "metadata": {},
   "outputs": [],
   "source": [
    "df_impact = scent.calculate_feature_distribution(adata, top_loadings, var='predicted')"
   ]
  },
  {
   "cell_type": "markdown",
   "id": "southern-warren",
   "metadata": {},
   "source": [
    "# Label stability scoring for individual label performance"
   ]
  },
  {
   "cell_type": "code",
   "execution_count": 377,
   "id": "medium-restriction",
   "metadata": {},
   "outputs": [],
   "source": [
    "# pred_col shape should match the pred_out original labels, so some self-projection works best here\n",
    "pred_col = list(pred_out.columns[pred_out.columns.isin(set(pred_out['orig_labels']))])\n",
    "loss, log_losses, weights = scent.compute_label_log_losses(pred_out, 'orig_labels', pred_col)"
   ]
  },
  {
   "cell_type": "markdown",
   "id": "associate-colors",
   "metadata": {},
   "source": [
    "# Label confidence scoring, weighted probabilities and label propagation\n",
    "\n",
    "## Bayesian KNN label stability\n",
    "For modelling label uncertainty given neighborhood membership and distances\n",
    "\n",
    "#### Step 1: Generate Binary Neighborhood Membership Matrix\n",
    "The first step is to generate a binary neighborhood membership matrix from the connectivity matrix. This is done with the function get_binary_neigh_matrix(connectivities), which takes a connectivity matrix as input and outputs a binary matrix indicating whether a cell is a neighbor of another cell.\n",
    "\n",
    "The connectivity matrix represents the neighborhood relationships between cells, typically obtained from KNN analysis. In this matrix, each row and column represent a cell, and an entry indicates the 'connectivity' between the corresponding cells.\n",
    "\n",
    "The function transforms the connectivity matrix into a binary matrix by setting all non-zero values to 1, indicating a neighborhood relationship, and all zero values remain as 0, indicating no neighborhood relationship.\n",
    "\n",
    "#### Step 2: Calculate Label Counts\n",
    "Next, the function get_label_counts(neigh_matrix, labels) is used to count the number of occurrences of each label in the neighborhood of each cell. The input to this function is the binary neighborhood membership matrix and a list of labels for each cell.\n",
    "\n",
    "The function returns a matrix in which each row corresponds to a cell, and each column corresponds to a label. Each entry is the count of cells of a particular label in the neighborhood of a given cell.\n",
    "\n",
    "#### Step 3: Compute Distance-Entropy Product\n",
    "In the third step, the function compute_dist_entropy_product(neigh_membership, labels, dist_matrix) computes the product of the average neighborhood distance and the entropy of the label distribution in the neighborhood for each cell and each label.\n",
    "\n",
    "The entropy of a label distribution in a neighborhood is a measure of the diversity or 'mix' of labels in that neighborhood, with higher entropy indicating a more diverse mix of labels. The average neighborhood distance for a cell is the average distance from that cell to all other cells in its neighborhood.\n",
    "\n",
    "By multiplying the entropy with the average distance, this function captures two important aspects of the neighborhood:\n",
    "\n",
    "Entropy: The diversity of labels in a neighborhood. High entropy means the neighborhood is a 'melting pot' of many different labels, while low entropy indicates a neighborhood dominated by a single label.\n",
    "Distance: The spatial proximity of cells in a neighborhood. A high average distance means the cells in a neighborhood are widely dispersed, while a low average distance indicates a compact, closely-knit neighborhood.\n",
    "Thus, the distance-entropy product for a cell provides a measure of the 'stability' of the cell's label, with lower values indicating a stable, consistent label and higher values indicating an unstable, inconsistent label.\n",
    "\n",
    "#### Step 4: Bayesian Sampling and Weight Calculation\n",
    "The final step is the compute_weights function, which uses Bayesian inference to compute a posterior distribution of the distance-entropy product for each label and calculates the weights.\n",
    "\n",
    "In Bayesian inference, we start with a prior distribution that represents our initial belief about the parameter we're interested in, and we update this belief using observed data to get a posterior distribution.\n",
    "\n",
    "In this case, the prior distribution is a normal distribution with mean and standard deviation equal to the mean and standard deviation of the distance-entropy product for the original labels. The observed data is the distance-entropy product for the predicted labels. A normal distribution is a reasonable choice for the prior because the distance-entropy product is a continuous variable that can theoretically take on any real value, and the normal distribution is the most common distribution for such variables.\n",
    "\n",
    "After sampling from the posterior distribution, the weight for each label is calculated as one minus the ratio of the standard deviation of the posterior distribution to the maximum standard deviation across all labels. This means that labels with a larger standard deviation (indicating greater uncertainty about their stability) will have smaller weights, and labels with a smaller standard deviation (indicating less uncertainty) will have larger weights.\n",
    "\n",
    "The weights are returned as a dictionary where each key-value pair corresponds to a label and its weight.\n",
    "\n",
    "#### Step 5: Apply Weights to Probabilities\n",
    "Finally, the weights are applied to the probability dataframe with the function apply_weights(prob_df, weights). The input to this function is a dataframe where each row corresponds to a cell and each column corresponds to a label, with each entry being the probability of the cell being of the label, and a dictionary of weights.\n",
    "\n",
    "This function multiplies each column of the probability dataframe by the corresponding weight, effectively 'boosting' the probabilities of labels with larger weights and 'penalizing' the probabilities of labels with smaller weights. After applying the weights, the function normalizes the probabilities so that they sum to 1 for each cell, returning a dataframe of the same shape as the input but with the probabilities weighted and normalized.\n",
    "\n",
    "Overall, this method provides a principled way to quantify label uncertainty and adjust the probabilities output by a logistic regression model accordingly. It combines the strengths of KNN, which can capture local structure and relationships in the data, and Bayesian inference, which provides a robust framework for dealing with uncertainty and incorporating prior knowledge. By weighting the probabilities according to the stability of the labels, this method can potentially improve the accuracy and interpretability of the logistic regression model's predictions."
   ]
  },
  {
   "cell_type": "code",
   "execution_count": null,
   "id": "adjustable-baptist",
   "metadata": {},
   "outputs": [],
   "source": [
    "weights = scent.compute_weights(adata,use_rep = 'neighbors', original_labels_col ='cell.labels', predicted_labels_col = 'cell.labels')\n",
    "adata.obsm['pred_out'] = pred_out\n",
    "adata.obsm['pred_out_weighted'] = apply_weights(adata.obsm['pred_out'],weights)"
   ]
  },
  {
   "cell_type": "markdown",
   "id": "color-regular",
   "metadata": {},
   "source": [
    "# Optionally now use the updated probabilities for label propagation "
   ]
  },
  {
   "cell_type": "code",
   "execution_count": 403,
   "id": "serial-telescope",
   "metadata": {},
   "outputs": [],
   "source": [
    "# Here define new labels with the updated probabilities\n",
    "# Run Freq-redist or 68CI redist amongst neighborhoods or new clusters"
   ]
  },
  {
   "cell_type": "code",
   "execution_count": null,
   "id": "integral-heading",
   "metadata": {},
   "outputs": [],
   "source": []
  }
 ],
 "metadata": {
  "kernelspec": {
   "display_name": "scentinel",
   "language": "python",
   "name": "scneitnel"
  },
  "language_info": {
   "codemirror_mode": {
    "name": "ipython",
    "version": 3
   },
   "file_extension": ".py",
   "mimetype": "text/x-python",
   "name": "python",
   "nbconvert_exporter": "python",
   "pygments_lexer": "ipython3",
   "version": "3.10.12"
  }
 },
 "nbformat": 4,
 "nbformat_minor": 5
}
