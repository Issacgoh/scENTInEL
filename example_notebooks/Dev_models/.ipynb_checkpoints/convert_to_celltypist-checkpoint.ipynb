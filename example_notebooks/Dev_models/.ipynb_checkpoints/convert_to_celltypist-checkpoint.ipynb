{
 "cells": [
  {
   "cell_type": "code",
   "execution_count": 1,
   "id": "nuclear-myanmar",
   "metadata": {},
   "outputs": [
    {
     "name": "stdout",
     "output_type": "stream",
     "text": [
      "Warning: Can't read registry to find the necessary compiler setting\n",
      "Make sure that Python modules winreg, win32api or win32con are installed.\n",
      "INFO: blas_opt_info:\n",
      "INFO: blas_armpl_info:\n",
      "INFO: customize UnixCCompiler\n",
      "INFO:   libraries armpl_lp64_mp not found in ['/home/jovyan/my-conda-envs/scentinel/lib', '/usr/local/lib', '/usr/lib64', '/usr/lib', '/usr/lib/x86_64-linux-gnu']\n",
      "INFO:   NOT AVAILABLE\n",
      "INFO: \n",
      "INFO: blas_mkl_info:\n",
      "INFO:   libraries mkl_rt not found in ['/home/jovyan/my-conda-envs/scentinel/lib', '/usr/local/lib', '/usr/lib64', '/usr/lib', '/usr/lib/x86_64-linux-gnu']\n",
      "INFO:   NOT AVAILABLE\n",
      "INFO: \n",
      "INFO: blis_info:\n",
      "INFO:   libraries blis not found in ['/home/jovyan/my-conda-envs/scentinel/lib', '/usr/local/lib', '/usr/lib64', '/usr/lib', '/usr/lib/x86_64-linux-gnu']\n",
      "INFO:   NOT AVAILABLE\n",
      "INFO: \n",
      "INFO: openblas_info:\n",
      "INFO:   libraries openblas not found in ['/home/jovyan/my-conda-envs/scentinel/lib', '/usr/local/lib', '/usr/lib64', '/usr/lib', '/usr/lib/x86_64-linux-gnu']\n",
      "INFO:   NOT AVAILABLE\n",
      "INFO: \n",
      "INFO: accelerate_info:\n",
      "INFO:   NOT AVAILABLE\n",
      "INFO: \n",
      "INFO: atlas_3_10_blas_threads_info:\n",
      "INFO: Setting PTATLAS=ATLAS\n",
      "INFO:   libraries tatlas not found in ['/home/jovyan/my-conda-envs/scentinel/lib', '/usr/local/lib', '/usr/lib64', '/usr/lib', '/usr/lib/x86_64-linux-gnu']\n",
      "INFO:   NOT AVAILABLE\n",
      "INFO: \n",
      "INFO: atlas_3_10_blas_info:\n",
      "INFO:   libraries satlas not found in ['/home/jovyan/my-conda-envs/scentinel/lib', '/usr/local/lib', '/usr/lib64', '/usr/lib', '/usr/lib/x86_64-linux-gnu']\n",
      "INFO:   NOT AVAILABLE\n",
      "INFO: \n",
      "INFO: atlas_blas_threads_info:\n",
      "INFO: Setting PTATLAS=ATLAS\n",
      "INFO:   libraries ptf77blas,ptcblas,atlas not found in ['/home/jovyan/my-conda-envs/scentinel/lib', '/usr/local/lib', '/usr/lib64', '/usr/lib', '/usr/lib/x86_64-linux-gnu']\n",
      "INFO:   NOT AVAILABLE\n",
      "INFO: \n",
      "INFO: atlas_blas_info:\n",
      "INFO:   libraries f77blas,cblas,atlas not found in ['/home/jovyan/my-conda-envs/scentinel/lib', '/usr/local/lib', '/usr/lib64', '/usr/lib', '/usr/lib/x86_64-linux-gnu']\n",
      "INFO:   NOT AVAILABLE\n",
      "INFO: \n",
      "INFO: blas_info:\n",
      "INFO: C compiler: gcc -pthread -B /home/jovyan/my-conda-envs/scentinel/compiler_compat -Wno-unused-result -Wsign-compare -DNDEBUG -fwrapv -O2 -Wall -fPIC -O2 -isystem /home/jovyan/my-conda-envs/scentinel/include -fPIC -O2 -isystem /home/jovyan/my-conda-envs/scentinel/include -fPIC\n",
      "\n",
      "creating /tmp/tmppdsqnrz7/tmp\n",
      "creating /tmp/tmppdsqnrz7/tmp/tmppdsqnrz7\n",
      "INFO: compile options: '-I/usr/local/include -I/home/jovyan/my-conda-envs/scentinel/include -c'\n",
      "INFO: gcc: /tmp/tmppdsqnrz7/source.c\n",
      "INFO: gcc -pthread -B /home/jovyan/my-conda-envs/scentinel/compiler_compat /tmp/tmppdsqnrz7/tmp/tmppdsqnrz7/source.o -L/usr/lib/x86_64-linux-gnu -lblas -o /tmp/tmppdsqnrz7/a.out\n",
      "INFO:   FOUND:\n",
      "INFO:     libraries = ['blas', 'blas']\n",
      "INFO:     library_dirs = ['/usr/lib/x86_64-linux-gnu']\n",
      "INFO:     include_dirs = ['/usr/local/include', '/home/jovyan/my-conda-envs/scentinel/include']\n",
      "INFO:     language = c\n",
      "INFO:     define_macros = [('HAVE_CBLAS', None)]\n",
      "INFO: \n",
      "INFO:   FOUND:\n",
      "INFO:     define_macros = [('NO_ATLAS_INFO', 1), ('HAVE_CBLAS', None)]\n",
      "INFO:     libraries = ['blas', 'blas']\n",
      "INFO:     library_dirs = ['/usr/lib/x86_64-linux-gnu']\n",
      "INFO:     include_dirs = ['/usr/local/include', '/home/jovyan/my-conda-envs/scentinel/include']\n",
      "INFO:     language = c\n",
      "INFO: \n"
     ]
    }
   ],
   "source": [
    "import scentinel as scent\n",
    "import scanpy as sc\n",
    "import numpy as np\n",
    "import pickle as pkl\n",
    "from sklearn.preprocessing import StandardScaler\n",
    "from datetime import datetime"
   ]
  },
  {
   "cell_type": "code",
   "execution_count": 2,
   "id": "secure-yeast",
   "metadata": {},
   "outputs": [],
   "source": [
    "models = {\n",
    "'pan_fetal_wget':'https://celltypist.cog.sanger.ac.uk/models/Pan_Fetal_Suo/v2/Pan_Fetal_Human.pkl',\n",
    "'YS_wget':'https://storage.googleapis.com/haniffalab/yolk-sac/YS_X_A2_V12_lvl3_ELASTICNET_YS.sav',\n",
    "}\n",
    "\n",
    "adatas_dict = {\n",
    "'pan_fetal_wget':'https://cellgeni.cog.sanger.ac.uk/developmentcellatlas/fetal-immune/PAN.A01.v01.raw_count.20210429.PFI.embedding.h5ad',\n",
    "'YS_wget':'https://app.cellatlas.io/yolk-sac/dataset/23/download',\n",
    "'YS_local':'/nfs/team205/ig7/work_backups/backup_210306/projects/YS/YS_data/Submission_2_data/A2_V10_scvi_YS_integrated/A2_V10_qc_raw_obsm.h5ad',\n",
    "'YS_pre_agm':'https://app.cellatlas.io/yolk-sac/dataset/10/download',\n",
    "'FLIV_wget':'https://app.cellatlas.io/fetal-liver/dataset/1/download',\n",
    "'int_atlas_sub':'/nfs/team298/ar32/Thesis_lab_hdca/label_testing_on_vae/scENTInEL/example_notebooks/Simple_sampled_adata_V1.h5ad',\n",
    "'int_atlas_full':'/nfs/team298/ar32/Thesis_lab_hdca/from_kemal/14_dataset_with_leiden.h5ad',\n",
    "}\n",
    "\n",
    "#setup global params:\n",
    "# Variable assignment\n",
    "model_key = 'YS_wget'#'pan_fetal_wget'#'test_low_dim_ipsc_ys'# key for model of choice can be either url or local "
   ]
  },
  {
   "cell_type": "code",
   "execution_count": 3,
   "id": "passive-arkansas",
   "metadata": {},
   "outputs": [
    {
     "name": "stdout",
     "output_type": "stream",
     "text": [
      "Loading model from web source\n"
     ]
    },
    {
     "data": {
      "text/plain": [
       "{'Model': LogisticRegression(max_iter=1000, multi_class='ovr', n_jobs=-1, solver='sag'),\n",
       " 'Scaler_': StandardScaler(),\n",
       " 'description': {'date': '2022-04-23 11:40:27.484223',\n",
       "  'details': 'stromal and immune populations from the human fetus',\n",
       "  'url': 'https://celltypist.cog.sanger.ac.uk/models/Pan_Fetal_Suo/v2/Pan_Fetal_Human.pkl',\n",
       "  'source': 'https://doi.org/10.1126/science.abo0510',\n",
       "  'version': 'v2',\n",
       "  'number_celltypes': 138}}"
      ]
     },
     "execution_count": 3,
     "metadata": {},
     "output_type": "execute_result"
    }
   ],
   "source": [
    "model_ref = scent.load_models(models,'pan_fetal_wget')\n",
    "model_ref"
   ]
  },
  {
   "cell_type": "code",
   "execution_count": 4,
   "id": "greater-swedish",
   "metadata": {},
   "outputs": [
    {
     "name": "stdout",
     "output_type": "stream",
     "text": [
      "Loading model from web source\n"
     ]
    }
   ],
   "source": [
    "model = scent.load_models(models,model_key)\n",
    "description = 'Stromal and immune populations of the human YS'\n",
    "link = 'https://storage.googleapis.com/haniffalab/yolk-sac/YS_X_A2_V12_lvl3_ELASTICNET_YS.sav'\n",
    "source = 'https://www.science.org/doi/10.1126/science.add7564'\n",
    "class_count = len(model.classes_)\n",
    "save_key = 'A2_V3_YS_X_model_celltpist_conv.pkl'"
   ]
  },
  {
   "cell_type": "code",
   "execution_count": 108,
   "id": "bearing-policy",
   "metadata": {},
   "outputs": [],
   "source": [
    "current_datetime = datetime.now()\n",
    "\n",
    "scaler.fit(your_training_data)\n",
    "model_dict = {\n",
    "'Model':model,\n",
    "'Scaler_': StandardScaler(),\n",
    "'description': {'date':current_datetime.strftime('%Y-%m-%d %H:%M:%S.%f'),\n",
    "'details': description,\n",
    "'url': link,\n",
    "'source': source,\n",
    "'version': 'v2',\n",
    "'number_celltypes': class_count}\n",
    "}\n",
    "with open(save_key, 'wb') as file:\n",
    "    pkl.dump(model_dict, file)"
   ]
  },
  {
   "cell_type": "code",
   "execution_count": 109,
   "id": "patent-breach",
   "metadata": {},
   "outputs": [
    {
     "data": {
      "text/plain": [
       "{'Model': LogisticRegression(C=0.01, l1_ratio=0.5, max_iter=200,\n",
       "                    multi_class='multinomial', penalty='elasticnet',\n",
       "                    solver='saga'),\n",
       " 'Scaler_': StandardScaler(),\n",
       " 'description': {'date': '2023-10-17 11:27:56.109596',\n",
       "  'details': 'Stromal and immune populations of the human YS',\n",
       "  'url': 'https://storage.googleapis.com/haniffalab/yolk-sac/YS_X_A2_V12_lvl3_ELASTICNET_YS.sav',\n",
       "  'source': 'https://www.science.org/doi/10.1126/science.add7564',\n",
       "  'version': 'v2',\n",
       "  'number_celltypes': 47}}"
      ]
     },
     "execution_count": 109,
     "metadata": {},
     "output_type": "execute_result"
    }
   ],
   "source": [
    "model_dict"
   ]
  }
 ],
 "metadata": {
  "kernelspec": {
   "display_name": "scentinel",
   "language": "python",
   "name": "scentinel"
  },
  "language_info": {
   "codemirror_mode": {
    "name": "ipython",
    "version": 3
   },
   "file_extension": ".py",
   "mimetype": "text/x-python",
   "name": "python",
   "nbconvert_exporter": "python",
   "pygments_lexer": "ipython3",
   "version": "3.9.18"
  }
 },
 "nbformat": 4,
 "nbformat_minor": 5
}
