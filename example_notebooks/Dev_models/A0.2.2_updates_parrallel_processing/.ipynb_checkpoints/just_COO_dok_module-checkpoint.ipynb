{
 "cells": [
  {
   "cell_type": "markdown",
   "id": "failing-district",
   "metadata": {},
   "source": [
    "# Working solution"
   ]
  },
  {
   "cell_type": "code",
   "execution_count": 77,
   "id": "tough-technician",
   "metadata": {},
   "outputs": [
    {
     "data": {
      "text/plain": [
       "8443"
      ]
     },
     "execution_count": 77,
     "metadata": {},
     "output_type": "execute_result"
    }
   ],
   "source": [
    "KNN_main = adata.obsp[adata.uns[model_params['knn_key']]['connectivities_key']].copy()\n",
    "knn = KNN_main\n",
    "KNN_tmp = knn[adata.obs.index.isin(adata_samp.obs.index)]\n",
    "KNN_tmp.data = np.where(KNN_tmp.data > 0, 1, 0)\n",
    "\n",
    "indices = np.where(KNN_tmp.sum(axis=0) <= model_params['alpha'])[1]\n",
    "len(indices)"
   ]
  },
  {
   "cell_type": "code",
   "execution_count": 78,
   "id": "broken-allen",
   "metadata": {},
   "outputs": [],
   "source": [
    "from scipy.sparse import coo_matrix, csr_matrix\n",
    "import numpy as np\n",
    "\n",
    "def compile_and_apply_updates(KNN_main, updates_dict):\n",
    "    \"\"\"\n",
    "    Compile updates from updates_dict and apply them to the KNN_main CSR matrix.\n",
    "    \"\"\"\n",
    "    row_updates = []\n",
    "    col_updates = []\n",
    "    data_updates = []\n",
    "\n",
    "    # Compile the latest updates for each unique index\n",
    "    compiled_updates = {}\n",
    "    for epoch, (indices, KNN_hop) in sorted(updates_dict.items(), reverse=True):\n",
    "        for idx, original_idx in enumerate(indices):\n",
    "            if original_idx not in compiled_updates:\n",
    "                compiled_updates[original_idx] = KNN_hop[idx, :].tocoo()\n",
    "\n",
    "    # Accumulate updates\n",
    "    for original_idx, update_coo in compiled_updates.items():\n",
    "        row_updates.extend([original_idx] * len(update_coo.data))\n",
    "        col_updates.extend(update_coo.col)\n",
    "        data_updates.extend(update_coo.data)\n",
    "\n",
    "    # Create a COO matrix from the compiled updates\n",
    "    updates_coo = coo_matrix((data_updates, (row_updates, col_updates)), shape=KNN_main.shape)\n",
    "\n",
    "    # Convert COO to CSR and apply updates\n",
    "    KNN_main += updates_coo.tocsr()\n",
    "\n",
    "    return KNN_main"
   ]
  },
  {
   "cell_type": "code",
   "execution_count": 79,
   "id": "lasting-trauma",
   "metadata": {},
   "outputs": [],
   "source": [
    "knn = compile_and_apply_updates(KNN_main, updates_dict)"
   ]
  },
  {
   "cell_type": "code",
   "execution_count": 80,
   "id": "disabled-judgment",
   "metadata": {},
   "outputs": [
    {
     "data": {
      "text/plain": [
       "2144"
      ]
     },
     "execution_count": 80,
     "metadata": {},
     "output_type": "execute_result"
    }
   ],
   "source": [
    "KNN_tmp = knn[adata.obs.index.isin(adata_samp.obs.index)]\n",
    "KNN_tmp.data = np.where(KNN_tmp.data > 0, 1, 0)\n",
    "\n",
    "indices = np.where(KNN_tmp.sum(axis=0) <= model_params['alpha'])[1]\n",
    "len(indices)"
   ]
  }
 ],
 "metadata": {
  "kernelspec": {
   "display_name": "scentinel",
   "language": "python",
   "name": "scentinel"
  },
  "language_info": {
   "name": ""
  }
 },
 "nbformat": 4,
 "nbformat_minor": 5
}
